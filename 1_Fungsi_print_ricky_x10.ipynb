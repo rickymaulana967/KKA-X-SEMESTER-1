{
  "nbformat": 4,
  "nbformat_minor": 0,
  "metadata": {
    "colab": {
      "provenance": [],
      "authorship_tag": "ABX9TyP2lzqy1Fua9PrDTddG69hT",
      "include_colab_link": true
    },
    "kernelspec": {
      "name": "python3",
      "display_name": "Python 3"
    },
    "language_info": {
      "name": "python"
    }
  },
  "cells": [
    {
      "cell_type": "markdown",
      "metadata": {
        "id": "view-in-github",
        "colab_type": "text"
      },
      "source": [
        "<a href=\"https://colab.research.google.com/github/rickymaulana967/KKA-X-SEMESTER-1/blob/main/1_Fungsi_print_ricky_x10.ipynb\" target=\"_parent\"><img src=\"https://colab.research.google.com/assets/colab-badge.svg\" alt=\"Open In Colab\"/></a>"
      ]
    },
    {
      "cell_type": "code",
      "execution_count": null,
      "metadata": {
        "colab": {
          "base_uri": "https://localhost:8080/"
        },
        "id": "hdq6QmDd5ecW",
        "outputId": "8374ec1a-d39f-4daf-bf9f-a65cf8959d3a"
      },
      "outputs": [
        {
          "output_type": "stream",
          "name": "stdout",
          "text": [
            "Bu shinta berkata,\"makan sosis so nice.\"\n"
          ]
        }
      ],
      "source": [
        "print(\"Bu shinta berkata,\\\"makan sosis so nice.\\\"\")"
      ]
    },
    {
      "cell_type": "code",
      "source": [
        "print('Bu shinta berkata,\"makan sois so nice.\"')"
      ],
      "metadata": {
        "colab": {
          "base_uri": "https://localhost:8080/"
        },
        "id": "ShoflD5R572Q",
        "outputId": "f8833896-353b-4422-e686-5606a196dfdc"
      },
      "execution_count": null,
      "outputs": [
        {
          "output_type": "stream",
          "name": "stdout",
          "text": [
            "Bu shinta berkata,\"makan sois so nice.\"\n"
          ]
        }
      ]
    },
    {
      "cell_type": "code",
      "source": [
        "print(\"Simpan file dr local disk D\\\\Man Demak\\\\kka\")"
      ],
      "metadata": {
        "colab": {
          "base_uri": "https://localhost:8080/"
        },
        "id": "SsV1MPNHEcnM",
        "outputId": "ce965b66-9d40-4eaf-a97a-680a97c60394"
      },
      "execution_count": null,
      "outputs": [
        {
          "output_type": "stream",
          "name": "stdout",
          "text": [
            "Simpan file dr local disk D\\Man Demak\\kka\n"
          ]
        }
      ]
    },
    {
      "cell_type": "code",
      "source": [
        "Namasiswa1=\"ahmadsahroni\"\n",
        "Namasiswa2=\"uyakuya\""
      ],
      "metadata": {
        "id": "8-TM2XxiG68V"
      },
      "execution_count": null,
      "outputs": []
    },
    {
      "cell_type": "code",
      "source": [
        "print(Namasiswa1,Namasiswa2)"
      ],
      "metadata": {
        "colab": {
          "base_uri": "https://localhost:8080/"
        },
        "id": "pXwTfw1JIAnJ",
        "outputId": "e9dfbf74-3cbb-46e9-96a2-d25acdc3775c"
      },
      "execution_count": null,
      "outputs": [
        {
          "output_type": "stream",
          "name": "stdout",
          "text": [
            "ahmadsahroni uyakuya\n"
          ]
        }
      ]
    },
    {
      "cell_type": "code",
      "source": [
        "print(Namasiswa1,Namasiswa2, sep=\"-\")"
      ],
      "metadata": {
        "colab": {
          "base_uri": "https://localhost:8080/"
        },
        "id": "W-hnPJoFJL1d",
        "outputId": "3ebe2262-00cb-46d3-ecc0-3cf0d562d336"
      },
      "execution_count": null,
      "outputs": [
        {
          "output_type": "stream",
          "name": "stdout",
          "text": [
            "ahmadsahroni-uyakuya\n"
          ]
        }
      ]
    },
    {
      "cell_type": "code",
      "source": [
        "print(Namasiswa1,Namasiswa2,Namasiswa1, sep=\"*\")"
      ],
      "metadata": {
        "colab": {
          "base_uri": "https://localhost:8080/"
        },
        "id": "xm2kohT2JgK9",
        "outputId": "470e2770-47a5-453e-a37a-c41df381ace2"
      },
      "execution_count": null,
      "outputs": [
        {
          "output_type": "stream",
          "name": "stdout",
          "text": [
            "ahmadsahroni*uyakuya*ahmadsahroni\n"
          ]
        }
      ]
    }
  ]
}